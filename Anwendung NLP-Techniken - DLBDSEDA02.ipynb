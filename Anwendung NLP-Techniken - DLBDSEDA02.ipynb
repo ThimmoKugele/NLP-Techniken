{
 "cells": [
  {
   "cell_type": "code",
   "execution_count": 71,
   "id": "84372080",
   "metadata": {},
   "outputs": [
    {
     "name": "stderr",
     "output_type": "stream",
     "text": [
      "[nltk_data] Downloading package punkt to\n",
      "[nltk_data]     C:\\Users\\TC\\AppData\\Roaming\\nltk_data...\n",
      "[nltk_data]   Package punkt is already up-to-date!\n",
      "C:\\Users\\TC\\AppData\\Local\\Temp\\ipykernel_26528\\2296427209.py:7: DtypeWarning: Columns (4,5,6,11,16) have mixed types. Specify dtype option on import or set low_memory=False.\n",
      "  df = pd.read_csv(\"C:\\\\Users\\\\TC\\\\Desktop\\\\rows.csv\")\n"
     ]
    },
    {
     "data": {
      "text/plain": [
       "(1282355, 18)"
      ]
     },
     "execution_count": 71,
     "metadata": {},
     "output_type": "execute_result"
    }
   ],
   "source": [
    "# Anwendung von NLP-Techniken\n",
    "\n",
    "# Import der erforderlichen Bibliotheken\n",
    "import nltk\n",
    "nltk.download('punkt')\n",
    "import pandas as pd\n",
    "import numpy as np\n",
    "# Laden der Daten (csv.-Datei). Der Pfad muss entsprechend angepasst werden\n",
    "df = pd.read_csv(\"C:\\\\Users\\\\TC\\\\Desktop\\\\rows.csv\")\n",
    "df.shape\n",
    "\n",
    "# Es erscheint eine Warnung da gemischte Datentypen in den Spalten vorhanden sind, diese kann hier aber ignoriert werden\n",
    "# Alternativ entsprechend den Vorschlägen behandeln, was wir hier aber nicht tun"
   ]
  },
  {
   "cell_type": "code",
   "execution_count": 72,
   "id": "ef545995",
   "metadata": {},
   "outputs": [
    {
     "data": {
      "text/html": [
       "<div>\n",
       "<style scoped>\n",
       "    .dataframe tbody tr th:only-of-type {\n",
       "        vertical-align: middle;\n",
       "    }\n",
       "\n",
       "    .dataframe tbody tr th {\n",
       "        vertical-align: top;\n",
       "    }\n",
       "\n",
       "    .dataframe thead th {\n",
       "        text-align: right;\n",
       "    }\n",
       "</style>\n",
       "<table border=\"1\" class=\"dataframe\">\n",
       "  <thead>\n",
       "    <tr style=\"text-align: right;\">\n",
       "      <th></th>\n",
       "      <th>0</th>\n",
       "      <th>1</th>\n",
       "      <th>2</th>\n",
       "    </tr>\n",
       "  </thead>\n",
       "  <tbody>\n",
       "    <tr>\n",
       "      <th>Date received</th>\n",
       "      <td>05/10/2019</td>\n",
       "      <td>05/10/2019</td>\n",
       "      <td>05/10/2019</td>\n",
       "    </tr>\n",
       "    <tr>\n",
       "      <th>Product</th>\n",
       "      <td>Checking or savings account</td>\n",
       "      <td>Checking or savings account</td>\n",
       "      <td>Debt collection</td>\n",
       "    </tr>\n",
       "    <tr>\n",
       "      <th>Sub-product</th>\n",
       "      <td>Checking account</td>\n",
       "      <td>Other banking product or service</td>\n",
       "      <td>Payday loan debt</td>\n",
       "    </tr>\n",
       "    <tr>\n",
       "      <th>Issue</th>\n",
       "      <td>Managing an account</td>\n",
       "      <td>Managing an account</td>\n",
       "      <td>Communication tactics</td>\n",
       "    </tr>\n",
       "    <tr>\n",
       "      <th>Sub-issue</th>\n",
       "      <td>Problem using a debit or ATM card</td>\n",
       "      <td>Deposits and withdrawals</td>\n",
       "      <td>Frequent or repeated calls</td>\n",
       "    </tr>\n",
       "    <tr>\n",
       "      <th>Consumer complaint narrative</th>\n",
       "      <td>NaN</td>\n",
       "      <td>NaN</td>\n",
       "      <td>NaN</td>\n",
       "    </tr>\n",
       "    <tr>\n",
       "      <th>Company public response</th>\n",
       "      <td>NaN</td>\n",
       "      <td>NaN</td>\n",
       "      <td>NaN</td>\n",
       "    </tr>\n",
       "    <tr>\n",
       "      <th>Company</th>\n",
       "      <td>NAVY FEDERAL CREDIT UNION</td>\n",
       "      <td>BOEING EMPLOYEES CREDIT UNION</td>\n",
       "      <td>CURO Intermediate Holdings</td>\n",
       "    </tr>\n",
       "    <tr>\n",
       "      <th>State</th>\n",
       "      <td>FL</td>\n",
       "      <td>WA</td>\n",
       "      <td>TX</td>\n",
       "    </tr>\n",
       "    <tr>\n",
       "      <th>ZIP code</th>\n",
       "      <td>328XX</td>\n",
       "      <td>98204</td>\n",
       "      <td>751XX</td>\n",
       "    </tr>\n",
       "    <tr>\n",
       "      <th>Tags</th>\n",
       "      <td>Older American</td>\n",
       "      <td>NaN</td>\n",
       "      <td>NaN</td>\n",
       "    </tr>\n",
       "    <tr>\n",
       "      <th>Consumer consent provided?</th>\n",
       "      <td>NaN</td>\n",
       "      <td>NaN</td>\n",
       "      <td>NaN</td>\n",
       "    </tr>\n",
       "    <tr>\n",
       "      <th>Submitted via</th>\n",
       "      <td>Web</td>\n",
       "      <td>Referral</td>\n",
       "      <td>Web</td>\n",
       "    </tr>\n",
       "    <tr>\n",
       "      <th>Date sent to company</th>\n",
       "      <td>05/10/2019</td>\n",
       "      <td>05/10/2019</td>\n",
       "      <td>05/10/2019</td>\n",
       "    </tr>\n",
       "    <tr>\n",
       "      <th>Company response to consumer</th>\n",
       "      <td>In progress</td>\n",
       "      <td>Closed with explanation</td>\n",
       "      <td>Closed with explanation</td>\n",
       "    </tr>\n",
       "    <tr>\n",
       "      <th>Timely response?</th>\n",
       "      <td>Yes</td>\n",
       "      <td>Yes</td>\n",
       "      <td>Yes</td>\n",
       "    </tr>\n",
       "    <tr>\n",
       "      <th>Consumer disputed?</th>\n",
       "      <td>NaN</td>\n",
       "      <td>NaN</td>\n",
       "      <td>NaN</td>\n",
       "    </tr>\n",
       "    <tr>\n",
       "      <th>Complaint ID</th>\n",
       "      <td>3238275</td>\n",
       "      <td>3238228</td>\n",
       "      <td>3237964</td>\n",
       "    </tr>\n",
       "  </tbody>\n",
       "</table>\n",
       "</div>"
      ],
      "text/plain": [
       "                                                              0  \\\n",
       "Date received                                        05/10/2019   \n",
       "Product                             Checking or savings account   \n",
       "Sub-product                                    Checking account   \n",
       "Issue                                       Managing an account   \n",
       "Sub-issue                     Problem using a debit or ATM card   \n",
       "Consumer complaint narrative                                NaN   \n",
       "Company public response                                     NaN   \n",
       "Company                               NAVY FEDERAL CREDIT UNION   \n",
       "State                                                        FL   \n",
       "ZIP code                                                  328XX   \n",
       "Tags                                             Older American   \n",
       "Consumer consent provided?                                  NaN   \n",
       "Submitted via                                               Web   \n",
       "Date sent to company                                 05/10/2019   \n",
       "Company response to consumer                        In progress   \n",
       "Timely response?                                            Yes   \n",
       "Consumer disputed?                                          NaN   \n",
       "Complaint ID                                            3238275   \n",
       "\n",
       "                                                             1  \\\n",
       "Date received                                       05/10/2019   \n",
       "Product                            Checking or savings account   \n",
       "Sub-product                   Other banking product or service   \n",
       "Issue                                      Managing an account   \n",
       "Sub-issue                             Deposits and withdrawals   \n",
       "Consumer complaint narrative                               NaN   \n",
       "Company public response                                    NaN   \n",
       "Company                          BOEING EMPLOYEES CREDIT UNION   \n",
       "State                                                       WA   \n",
       "ZIP code                                                 98204   \n",
       "Tags                                                       NaN   \n",
       "Consumer consent provided?                                 NaN   \n",
       "Submitted via                                         Referral   \n",
       "Date sent to company                                05/10/2019   \n",
       "Company response to consumer           Closed with explanation   \n",
       "Timely response?                                           Yes   \n",
       "Consumer disputed?                                         NaN   \n",
       "Complaint ID                                           3238228   \n",
       "\n",
       "                                                       2  \n",
       "Date received                                 05/10/2019  \n",
       "Product                                  Debt collection  \n",
       "Sub-product                             Payday loan debt  \n",
       "Issue                              Communication tactics  \n",
       "Sub-issue                     Frequent or repeated calls  \n",
       "Consumer complaint narrative                         NaN  \n",
       "Company public response                              NaN  \n",
       "Company                       CURO Intermediate Holdings  \n",
       "State                                                 TX  \n",
       "ZIP code                                           751XX  \n",
       "Tags                                                 NaN  \n",
       "Consumer consent provided?                           NaN  \n",
       "Submitted via                                        Web  \n",
       "Date sent to company                          05/10/2019  \n",
       "Company response to consumer     Closed with explanation  \n",
       "Timely response?                                     Yes  \n",
       "Consumer disputed?                                   NaN  \n",
       "Complaint ID                                     3237964  "
      ]
     },
     "execution_count": 72,
     "metadata": {},
     "output_type": "execute_result"
    }
   ],
   "source": [
    "# Der Datensatz besteht aus über ine Millionen Zeilen und 18 Spalten\n",
    "# Anzeige der ersten 3 Zeilen der Daten und Transponieren des Ergebnisses\n",
    "df.head(3).T\n",
    "#print(df)"
   ]
  },
  {
   "cell_type": "code",
   "execution_count": 73,
   "id": "2c084b4c",
   "metadata": {},
   "outputs": [
    {
     "data": {
      "text/plain": [
       "(383564, 2)"
      ]
     },
     "execution_count": 73,
     "metadata": {},
     "output_type": "execute_result"
    }
   ],
   "source": [
    "# Entfernung irrelevanter Daten wie Adressen oder Datum, um den Datensatz zu verkleinern\n",
    "# Der kleinere Datensatz wird neu abgespeichert\n",
    "df1 = df[['Product', 'Consumer complaint narrative']].copy()\n",
    "\n",
    "# Entfernen der Datensätze, welche keine Beschwerde enthalten, also unter \"Consumer complaint narrative\" ein \"NaN\"\n",
    "df1 = df1[pd.notnull(df1['Consumer complaint narrative'])]\n",
    "\n",
    "# Einfachere Benennung der zwei Spalten einfügen\n",
    "df1.columns = ['Product', 'Complaint'] \n",
    "\n",
    "# Ausgabe er Anzahl übriger Beschwerden zur weiteren Verarbeitung\n",
    "df1.shape\n",
    "\n",
    "# Optional Visualisierung der Daten\n",
    "# print(df)\n"
   ]
  },
  {
   "cell_type": "code",
   "execution_count": 74,
   "id": "1f8e3cd9",
   "metadata": {},
   "outputs": [
    {
     "data": {
      "text/html": [
       "<div>\n",
       "<style scoped>\n",
       "    .dataframe tbody tr th:only-of-type {\n",
       "        vertical-align: middle;\n",
       "    }\n",
       "\n",
       "    .dataframe tbody tr th {\n",
       "        vertical-align: top;\n",
       "    }\n",
       "\n",
       "    .dataframe thead th {\n",
       "        text-align: right;\n",
       "    }\n",
       "</style>\n",
       "<table border=\"1\" class=\"dataframe\">\n",
       "  <thead>\n",
       "    <tr style=\"text-align: right;\">\n",
       "      <th></th>\n",
       "      <th>Product</th>\n",
       "      <th>Complaint</th>\n",
       "    </tr>\n",
       "  </thead>\n",
       "  <tbody>\n",
       "    <tr>\n",
       "      <th>29904</th>\n",
       "      <td>Credit reporting, credit repair services, or o...</td>\n",
       "      <td>The Summer of XX/XX/2018 I was denied a mortga...</td>\n",
       "    </tr>\n",
       "    <tr>\n",
       "      <th>30629</th>\n",
       "      <td>Credit reporting, credit repair services, or o...</td>\n",
       "      <td>There are many mistakes appear in my report wi...</td>\n",
       "    </tr>\n",
       "    <tr>\n",
       "      <th>30735</th>\n",
       "      <td>Credit reporting, credit repair services, or o...</td>\n",
       "      <td>There are many mistakes appear in my report wi...</td>\n",
       "    </tr>\n",
       "    <tr>\n",
       "      <th>30795</th>\n",
       "      <td>Credit reporting, credit repair services, or o...</td>\n",
       "      <td>There are many mistakes appear in my report wi...</td>\n",
       "    </tr>\n",
       "    <tr>\n",
       "      <th>30807</th>\n",
       "      <td>Credit reporting, credit repair services, or o...</td>\n",
       "      <td>There are many mistakes appear in my report wi...</td>\n",
       "    </tr>\n",
       "  </tbody>\n",
       "</table>\n",
       "</div>"
      ],
      "text/plain": [
       "                                                 Product  \\\n",
       "29904  Credit reporting, credit repair services, or o...   \n",
       "30629  Credit reporting, credit repair services, or o...   \n",
       "30735  Credit reporting, credit repair services, or o...   \n",
       "30795  Credit reporting, credit repair services, or o...   \n",
       "30807  Credit reporting, credit repair services, or o...   \n",
       "\n",
       "                                               Complaint  \n",
       "29904  The Summer of XX/XX/2018 I was denied a mortga...  \n",
       "30629  There are many mistakes appear in my report wi...  \n",
       "30735  There are many mistakes appear in my report wi...  \n",
       "30795  There are many mistakes appear in my report wi...  \n",
       "30807  There are many mistakes appear in my report wi...  "
      ]
     },
     "execution_count": 74,
     "metadata": {},
     "output_type": "execute_result"
    }
   ],
   "source": [
    "# Der kleinere Datensatz besteht aus über 383000 Beschwerden und 2 Spalten \n",
    "# Optional zur Visualisieurng der Daten\n",
    "df1.head(5)"
   ]
  },
  {
   "cell_type": "code",
   "execution_count": 75,
   "id": "f8f71070",
   "metadata": {},
   "outputs": [],
   "source": [
    "# Anzeige der Unterschiedlichen Kategorien (Product) aus dem Datensatz\n",
    "# pd.DataFrame(df.Product.unique()).values\n"
   ]
  },
  {
   "cell_type": "code",
   "execution_count": 76,
   "id": "7ad5b568",
   "metadata": {},
   "outputs": [
    {
     "name": "stdout",
     "output_type": "stream",
     "text": [
      "18\n"
     ]
    }
   ],
   "source": [
    "# Anzeige der Anzahl der Kategorien (Product) aus dem Datensatz\n",
    "count_unique_products = df.Product.nunique()\n",
    "print(count_unique_products)"
   ]
  },
  {
   "cell_type": "code",
   "execution_count": 77,
   "id": "f161b2e4",
   "metadata": {},
   "outputs": [
    {
     "data": {
      "text/plain": [
       "Product\n",
       "Credit reporting, credit repair services, or other personal consumer reports    92378\n",
       "Debt collection                                                                 86710\n",
       "Mortgage                                                                        52987\n",
       "Credit reporting                                                                31588\n",
       "Student loan                                                                    21810\n",
       "Credit card or prepaid card                                                     21379\n",
       "Credit card                                                                     18838\n",
       "Bank account or service                                                         14885\n",
       "Checking or savings account                                                     12881\n",
       "Consumer Loan                                                                    9474\n",
       "Vehicle loan or lease                                                            5745\n",
       "Money transfer, virtual currency, or money service                               5466\n",
       "Payday loan, title loan, or personal loan                                        4421\n",
       "Payday loan                                                                      1747\n",
       "Money transfers                                                                  1497\n",
       "Prepaid card                                                                     1450\n",
       "Other financial service                                                           292\n",
       "Virtual currency                                                                   16\n",
       "Name: count, dtype: int64"
      ]
     },
     "execution_count": 77,
     "metadata": {},
     "output_type": "execute_result"
    }
   ],
   "source": [
    "# Hier die Anzeige er Zeilen mit den Kategorien\n",
    "df1['Product'].value_counts()"
   ]
  },
  {
   "cell_type": "code",
   "execution_count": 100,
   "id": "704dc2a5",
   "metadata": {},
   "outputs": [
    {
     "data": {
      "text/html": [
       "<div>\n",
       "<style scoped>\n",
       "    .dataframe tbody tr th:only-of-type {\n",
       "        vertical-align: middle;\n",
       "    }\n",
       "\n",
       "    .dataframe tbody tr th {\n",
       "        vertical-align: top;\n",
       "    }\n",
       "\n",
       "    .dataframe thead th {\n",
       "        text-align: right;\n",
       "    }\n",
       "</style>\n",
       "<table border=\"1\" class=\"dataframe\">\n",
       "  <thead>\n",
       "    <tr style=\"text-align: right;\">\n",
       "      <th></th>\n",
       "      <th>Product</th>\n",
       "      <th>Complaint</th>\n",
       "    </tr>\n",
       "  </thead>\n",
       "  <tbody>\n",
       "    <tr>\n",
       "      <th>35319</th>\n",
       "      <td>Student loan</td>\n",
       "      <td>I met the requirements for the ability to bene...</td>\n",
       "    </tr>\n",
       "    <tr>\n",
       "      <th>38191</th>\n",
       "      <td>Student loan</td>\n",
       "      <td>Navient refuses to issue a paid in full letter...</td>\n",
       "    </tr>\n",
       "    <tr>\n",
       "      <th>38829</th>\n",
       "      <td>Student loan</td>\n",
       "      <td>XX/XX//2019 - I sent a letter to the Dept of E...</td>\n",
       "    </tr>\n",
       "    <tr>\n",
       "      <th>38999</th>\n",
       "      <td>Student loan</td>\n",
       "      <td>For years, Navient ( previously Sallie Mae ) e...</td>\n",
       "    </tr>\n",
       "    <tr>\n",
       "      <th>39223</th>\n",
       "      <td>Student loan</td>\n",
       "      <td>I am the co signer on my daughter 's student l...</td>\n",
       "    </tr>\n",
       "  </tbody>\n",
       "</table>\n",
       "</div>"
      ],
      "text/plain": [
       "            Product                                          Complaint\n",
       "35319  Student loan  I met the requirements for the ability to bene...\n",
       "38191  Student loan  Navient refuses to issue a paid in full letter...\n",
       "38829  Student loan  XX/XX//2019 - I sent a letter to the Dept of E...\n",
       "38999  Student loan  For years, Navient ( previously Sallie Mae ) e...\n",
       "39223  Student loan  I am the co signer on my daughter 's student l..."
      ]
     },
     "execution_count": 100,
     "metadata": {},
     "output_type": "execute_result"
    }
   ],
   "source": [
    "# Da der Datensatz noch sehr groß ist und mein System an seine Grenzen in Bezug auf die Rechenleistung kommt \n",
    "# wird nun lediglich die Kategorie \"Student loan\" weiter verarbeitet\n",
    "# Beispielhafte Darstellung der ersten 5 Einträge\n",
    "df2 = df1[df1['Product'] == 'Student loan']\n",
    "df2.head(5)"
   ]
  },
  {
   "cell_type": "code",
   "execution_count": 101,
   "id": "6181c8fd",
   "metadata": {},
   "outputs": [
    {
     "name": "stderr",
     "output_type": "stream",
     "text": [
      "C:\\Users\\TC\\AppData\\Local\\Temp\\ipykernel_26528\\3273816499.py:16: SettingWithCopyWarning: \n",
      "A value is trying to be set on a copy of a slice from a DataFrame\n",
      "\n",
      "See the caveats in the documentation: https://pandas.pydata.org/pandas-docs/stable/user_guide/indexing.html#returning-a-view-versus-a-copy\n",
      "  df2.loc['Complaint'] = df2['Complaint'].apply(stem_sentence)\n"
     ]
    },
    {
     "data": {
      "text/html": [
       "<div>\n",
       "<style scoped>\n",
       "    .dataframe tbody tr th:only-of-type {\n",
       "        vertical-align: middle;\n",
       "    }\n",
       "\n",
       "    .dataframe tbody tr th {\n",
       "        vertical-align: top;\n",
       "    }\n",
       "\n",
       "    .dataframe thead th {\n",
       "        text-align: right;\n",
       "    }\n",
       "</style>\n",
       "<table border=\"1\" class=\"dataframe\">\n",
       "  <thead>\n",
       "    <tr style=\"text-align: right;\">\n",
       "      <th></th>\n",
       "      <th>Product</th>\n",
       "      <th>Complaint</th>\n",
       "    </tr>\n",
       "  </thead>\n",
       "  <tbody>\n",
       "    <tr>\n",
       "      <th>35319</th>\n",
       "      <td>Student loan</td>\n",
       "      <td>I met the requirements for the ability to bene...</td>\n",
       "    </tr>\n",
       "    <tr>\n",
       "      <th>38191</th>\n",
       "      <td>Student loan</td>\n",
       "      <td>Navient refuses to issue a paid in full letter...</td>\n",
       "    </tr>\n",
       "    <tr>\n",
       "      <th>38829</th>\n",
       "      <td>Student loan</td>\n",
       "      <td>XX/XX//2019 - I sent a letter to the Dept of E...</td>\n",
       "    </tr>\n",
       "    <tr>\n",
       "      <th>38999</th>\n",
       "      <td>Student loan</td>\n",
       "      <td>For years, Navient ( previously Sallie Mae ) e...</td>\n",
       "    </tr>\n",
       "    <tr>\n",
       "      <th>39223</th>\n",
       "      <td>Student loan</td>\n",
       "      <td>I am the co signer on my daughter 's student l...</td>\n",
       "    </tr>\n",
       "  </tbody>\n",
       "</table>\n",
       "</div>"
      ],
      "text/plain": [
       "            Product                                          Complaint\n",
       "35319  Student loan  I met the requirements for the ability to bene...\n",
       "38191  Student loan  Navient refuses to issue a paid in full letter...\n",
       "38829  Student loan  XX/XX//2019 - I sent a letter to the Dept of E...\n",
       "38999  Student loan  For years, Navient ( previously Sallie Mae ) e...\n",
       "39223  Student loan  I am the co signer on my daughter 's student l..."
      ]
     },
     "execution_count": 101,
     "metadata": {},
     "output_type": "execute_result"
    }
   ],
   "source": [
    "# Importieren der erforderlichen Bibliothek für das Stemming\n",
    "import nltk\n",
    "from nltk.stem.snowball import SnowballStemmer\n",
    "from nltk.tokenize import word_tokenize\n",
    "\n",
    "# Erstellen des Stemmers\n",
    "stemmer = SnowballStemmer(\"english\")\n",
    "\n",
    "# Definition einer Funktion, um das Stemming auf einen Satz anzuwenden\n",
    "def stem_sentence(sentence):\n",
    "    words = word_tokenize(sentence)\n",
    "    stemmed_words = [stemmer.stem(word) for word in words]\n",
    "    return ' '.join(stemmed_words)\n",
    "\n",
    "# Funktion auf die Spalte 'Complaint' anwenden\n",
    "df2.loc['Complaint'] = df2['Complaint'].apply(stem_sentence)\n",
    "\n",
    "df2.head(5)\n",
    "# "
   ]
  },
  {
   "cell_type": "code",
   "execution_count": 80,
   "id": "516fd22c",
   "metadata": {},
   "outputs": [],
   "source": [
    "# Da der Datensatz noch sehr groß ist und mein System an seine Grenzen in Bezug auf die Rechenleistung kommt \n",
    "# wird eine Stichprobe von 10000 Einträgen gezogen, welche weiter verarbeitet wird\n",
    "# Falls genügend Rechenkapazität zur verfügung steht kann dieser Schritt übersprungen werden\n",
    "# und der Code muss entsprechend auf den Ursprungsdatensatz angepasst werden\n",
    "# df2 = df1.sample(10000, random_state=1).copy()"
   ]
  },
  {
   "cell_type": "code",
   "execution_count": 81,
   "id": "848a3f9b",
   "metadata": {},
   "outputs": [],
   "source": [
    "# Da es ähnliche Kategorien gibt, werden diese zusammengefasst und entsprechend umbenannt\n",
    "# df2.replace({'Product': \n",
    "  #            {'Credit reporting, credit repair services, or other personal consumer reports': \n",
    "  #            'Credit reporting, repair, or other', \n",
    "  #            'Credit reporting': 'Credit reporting, repair, or other',\n",
    "  #           'Credit card': 'Credit card or prepaid card',\n",
    "  #           'Prepaid card': 'Credit card or prepaid card',\n",
    "  #           'Payday loan': 'Payday loan, title loan, or personal loan',\n",
    "  #           'Money transfer': 'Money transfer, virtual currency, or money service',\n",
    "  #           'Virtual currency': 'Money transfer, virtual currency, or money service'}}, \n",
    "  #          inplace= True)"
   ]
  },
  {
   "cell_type": "code",
   "execution_count": 82,
   "id": "bf89ab49",
   "metadata": {},
   "outputs": [],
   "source": [
    "# Anzeige der nun vorhandenen Kategorien\n",
    "# pd.DataFrame(df2.Product.unique())"
   ]
  },
  {
   "cell_type": "code",
   "execution_count": 83,
   "id": "afbe90e8",
   "metadata": {},
   "outputs": [],
   "source": [
    "# Erstellen einer neuen Spalte, um die Kategorien zu kodieren\n",
    "#df2['category_id'] = df2['Product'].factorize()[0]\n",
    "#category_id_df = df2[['Product', 'category_id']].drop_duplicates()\n",
    "\n",
    "\n",
    "# Ein Wörterbuch wird erstellt\n",
    "#category_to_id = dict(category_id_df.values)\n",
    "#id_to_category = dict(category_id_df[['category_id', 'Product']].values)\n",
    "\n",
    "# Anzeigen des neuen Datenframes mittels beispielhafter Ausgabe der ersten 5 Zeilen \n",
    "#df2.head()"
   ]
  },
  {
   "cell_type": "code",
   "execution_count": 88,
   "id": "c461db90",
   "metadata": {},
   "outputs": [
    {
     "name": "stdout",
     "output_type": "stream",
     "text": [
      "Index(['Product', 'Complaint'], dtype='object')\n",
      "Jede der 21810 Beschwerden wird dargestellt durch 100 Merkmale\n"
     ]
    }
   ],
   "source": [
    "# BOW-Vektorisierung\n",
    "# Import der Klasse CountVectorizer für BOW\n",
    "from sklearn.feature_extraction.text import CountVectorizer\n",
    "\n",
    "# Erstellen des CountVectorizer-Objekts\n",
    "# Eingrenzung auf 100 Merkmale\n",
    "# Berücksichtigung von Unigramme und Bigramme (ngram_range)\n",
    "# Erstellung einer Liste mit englische und aufgrund der Daten definierten Stoppwörtern\n",
    "\n",
    "stopwords = nltk.corpus.stopwords.words('english')\n",
    "newStopWords = ['xx','xxx','xxxx']\n",
    "stopwords.extend(newStopWords)\n",
    "\n",
    "# Entfernung der Stoppwörter aus der Liste für englische Stoppwörter (stop_words)\n",
    "\n",
    "bow = CountVectorizer(max_features=100, min_df=1000, ngram_range=(1, 2), stop_words= stopwords)\n",
    "\n",
    "# Umwandlung der Beschwerden in einen BoW-Vektor\n",
    "bow_features = bow.fit_transform(df2.Complaint).toarray()\n",
    "\n",
    "print(df2.columns)\n",
    "\n",
    "#labels = df2.category_id\n",
    "\n",
    "#Ausagbe der Ergebnisse\n",
    "print(\"Jede der %d Beschwerden wird dargestellt durch %d Merkmale\" %(bow_features.shape))"
   ]
  },
  {
   "cell_type": "code",
   "execution_count": 90,
   "id": "5c27437c",
   "metadata": {},
   "outputs": [
    {
     "name": "stdout",
     "output_type": "stream",
     "text": [
      "Index(['Product', 'Complaint'], dtype='object')\n",
      "Jede der 21810 Beschwerden wird dargestellt durch 100 Merkmale\n"
     ]
    }
   ],
   "source": [
    "# TFIDF-Vektorisierung\n",
    "# Import des TFIDF Vektorizers\n",
    "\n",
    "\n",
    "from sklearn.feature_extraction.text import TfidfVectorizer\n",
    "from sklearn.feature_extraction.text import TfidfTransformer\n",
    "\n",
    "# Entfernung von Wörtern, welche in weniger als 1000 Dokumenten vorkommen (min_df)\n",
    "# Berücksichtigung von Unigramme und Bigramme (ngram_range)\n",
    "# Entfernung der Stoppwörter aus der Liste für englische Stoppwörter (stop_words) und Datensatzspetifische Stoppwörter\n",
    "# Eingrenzung auf 100 Merkmale\n",
    "\n",
    "tfidf = TfidfVectorizer(max_features=100,sublinear_tf=True, min_df=1000,\n",
    "                        ngram_range=(1, 2), \n",
    "                        stop_words=stopwords)\n",
    "\n",
    "# Jede Beschwerde wird in einen TFIDF-Vektor umgewandelt\n",
    "tfidf_features = tfidf.fit_transform(df2.Complaint).toarray()\n",
    "\n",
    "print(df2.columns)\n",
    "\n",
    "#labels = df2.category_id\n",
    "\n",
    "print(\"Jede der %d Beschwerden wird dargestellt durch %d Merkmale\" %(tfidf_features.shape))"
   ]
  },
  {
   "cell_type": "code",
   "execution_count": 91,
   "id": "b47a2956",
   "metadata": {},
   "outputs": [],
   "source": [
    "# Wir sehen nun die Anzahl der Merkmale ist identisch, weil beide Methoden das Vokabular \n",
    "# aus den gleichen Eingabedaten erstellen. Beide Methoden betrachten jedes eindeutige Wort \n",
    "# in den Daten als ein Merkmal.\n",
    "# Die Unterschiede zwischen TF-IDF und BoW liegen in der Art und Weise, wie sie die Werte für diese Merkmale berechnen"
   ]
  },
  {
   "cell_type": "code",
   "execution_count": 92,
   "id": "b303bf07",
   "metadata": {},
   "outputs": [
    {
     "name": "stdout",
     "output_type": "stream",
     "text": [
      "BoW Merkmale für das erste Dokument:  [0 0 0 0 0 0 0 1 0 0]\n",
      "TF-IDF Merkmale für das erste Dokument:  [0.         0.         0.         0.         0.         0.\n",
      " 0.         0.24086021 0.         0.        ]\n"
     ]
    }
   ],
   "source": [
    "# Ausgabe der ersten 10 Merkmale für das erste Dokument jeweils für BOW und TF-IDF\n",
    "print(\"BoW Merkmale für das erste Dokument: \", bow_features[0][:10])\n",
    "print(\"TF-IDF Merkmale für das erste Dokument: \", tfidf_features[0][:10])"
   ]
  },
  {
   "cell_type": "code",
   "execution_count": 93,
   "id": "fe7cf028",
   "metadata": {},
   "outputs": [],
   "source": [
    "# Nun erkennt man, dass in großen Textsammlungen viele Nullvektoren bei BOW und TF-IDF entstehen, weshalb nochmals oben\n",
    "# mittels min_df auf noch weniger Merkmale reduziert werden musste, was aber immer noch zu vielen Nullvektoren führt\n",
    "# Auch zu sehen ist in dem Beispiel, dass die Werte in den BoW-Vektoren höher sind da nur die Häufigkeit jedes Wortes \n",
    "# in einem Dokument berücksichtigt wird\n",
    "# während die Werte in den TF-IDF-Vektoren kleiner sind, da die Wortzählungen nach ihrer Bedeutung in den Dokumenten\n",
    "# gewichtet werden"
   ]
  },
  {
   "cell_type": "code",
   "execution_count": 94,
   "id": "7effe9d1",
   "metadata": {},
   "outputs": [
    {
     "name": "stdout",
     "output_type": "stream",
     "text": [
      "BoW Merkmale:  ['00' 'abl' 'account' 'also' 'amount' 'ani' 'appli' 'ask' 'back' 'balanc'\n",
      " 'becaus' 'bill' 'call' 'chang' 'check' 'collect' 'compani' 'consolid'\n",
      " 'contact' 'continu' 'could' 'credit' 'current' 'date' 'day' 'debt'\n",
      " 'defer' 'document' 'due' 'educ' 'email' 'even' 'everi' 'feder' 'financi'\n",
      " 'first' 'forbear' 'get' 'go' 'help' 'incom' 'inform' 'interest' 'issu'\n",
      " 'know' 'late' 'letter' 'like' 'loan' 'made' 'make' 'make payment' 'money'\n",
      " 'month' 'month payment' 'navient' 'need' 'never' 'number' 'one' 'onli'\n",
      " 'option' 'owe' 'paid' 'pay' 'payment' 'phone' 'plan' 'privat' 'process'\n",
      " 'program' 'provid' 'qualifi' 'rate' 'receiv' 'repay' 'report' 'repres'\n",
      " 'request' 'said' 'say' 'school' 'sent' 'servic' 'sign' 'sinc' 'start'\n",
      " 'state' 'still' 'student' 'student loan' 'take' 'time' 'told' 'tri'\n",
      " 'want' 'whi' 'work' 'would' 'year']\n",
      "TF-IDF Merkmale:  ['00' 'abl' 'account' 'also' 'amount' 'ani' 'appli' 'ask' 'back' 'balanc'\n",
      " 'becaus' 'bill' 'call' 'chang' 'check' 'collect' 'compani' 'consolid'\n",
      " 'contact' 'continu' 'could' 'credit' 'current' 'date' 'day' 'debt'\n",
      " 'defer' 'document' 'due' 'educ' 'email' 'even' 'everi' 'feder' 'financi'\n",
      " 'first' 'forbear' 'get' 'go' 'help' 'incom' 'inform' 'interest' 'issu'\n",
      " 'know' 'late' 'letter' 'like' 'loan' 'made' 'make' 'make payment' 'money'\n",
      " 'month' 'month payment' 'navient' 'need' 'never' 'number' 'one' 'onli'\n",
      " 'option' 'owe' 'paid' 'pay' 'payment' 'phone' 'plan' 'privat' 'process'\n",
      " 'program' 'provid' 'qualifi' 'rate' 'receiv' 'repay' 'report' 'repres'\n",
      " 'request' 'said' 'say' 'school' 'sent' 'servic' 'sign' 'sinc' 'start'\n",
      " 'state' 'still' 'student' 'student loan' 'take' 'time' 'told' 'tri'\n",
      " 'want' 'whi' 'work' 'would' 'year']\n"
     ]
    }
   ],
   "source": [
    "# Anzeige der 100 Merkmale\n",
    "print(\"BoW Merkmale: \", bow.get_feature_names_out())\n",
    "print(\"TF-IDF Merkmale: \", tfidf.get_feature_names_out())"
   ]
  },
  {
   "cell_type": "code",
   "execution_count": 102,
   "id": "bfb09833",
   "metadata": {},
   "outputs": [
    {
     "name": "stdout",
     "output_type": "stream",
     "text": [
      "       word  avg_tfidf\n",
      "48     loan   0.137340\n",
      "65  payment   0.116937\n",
      "55  navient   0.084669\n",
      "64      pay   0.081467\n",
      "53    month   0.078915\n",
      "..      ...        ...\n",
      "77   repres   0.027404\n",
      "14    check   0.026931\n",
      "35    first   0.026683\n",
      "11     bill   0.026607\n",
      "72  qualifi   0.025350\n",
      "\n",
      "[100 rows x 2 columns]\n"
     ]
    }
   ],
   "source": [
    "# Die Themenanalyse wird mit den TF-IDF-Vektoren durchgeführt, da diese in der Regel bessere Ergebnisse als BOW liefert\n",
    "# Berechnen der durchschnittlichen TF-IDF-Werte für jedes Wort\n",
    "avg_tfidf = np.mean(tfidf_features, axis=0)\n",
    "\n",
    "# Erstellen eines DataFrames mit den Wörtern und ihren durchschnittlichen TF-IDF-Werten\n",
    "df_tfidf = pd.DataFrame({'word': tfidf.get_feature_names_out(), 'avg_tfidf': avg_tfidf})\n",
    "\n",
    "# Sortieren des DataFrames in absteigender Reihenfolge der durchschnittlichen TF-IDF-Werte\n",
    "df_tfidf = df_tfidf.sort_values('avg_tfidf', ascending=False)\n",
    "\n",
    "# Ausgabe der Wörter und ihrer durchschnittlichen TF-IDF-Werte\n",
    "print(df_tfidf)"
   ]
  },
  {
   "cell_type": "code",
   "execution_count": 97,
   "id": "9705d931",
   "metadata": {},
   "outputs": [
    {
     "name": "stdout",
     "output_type": "stream",
     "text": [
      "Thema  0 :  5.316834237188696 %\n",
      "Thema  1 :  5.293745237440426 %\n",
      "Thema  2 :  5.354632663557727 %\n",
      "Thema  3 :  78.72856980692465 %\n",
      "Thema  4 :  5.306218054888494 %\n",
      "\n",
      "==> Thema 0:\n",
      "  * Schlüsselwörter:  payment call account month loan\n",
      "\n",
      "==> Thema 1:\n",
      "  * Schlüsselwörter:  report credit late loan account\n",
      "\n",
      "==> Thema 2:\n",
      "  * Schlüsselwörter:  loan pay payment school 00\n",
      "\n",
      "==> Thema 3:\n",
      "  * Schlüsselwörter:  loan collect call letter inform\n",
      "\n",
      "==> Thema 4:\n",
      "  * Schlüsselwörter:  loan payment repay plan incom\n"
     ]
    }
   ],
   "source": [
    "# Extraktion der 5 häufigsten Themen jeder Kategorie mittels sklearn LDA\n",
    "from sklearn.decomposition import TruncatedSVD\n",
    "from sklearn.decomposition import LatentDirichletAllocation\n",
    "\n",
    "# Erstellung des LDA-Modells\n",
    "lda_model=LatentDirichletAllocation(n_components=5,learning_method=\n",
    "'online',random_state=42,max_iter=1)\n",
    "\n",
    "# Anpassung des LDA-Models an die Merkmale\n",
    "lda_top=lda_model.fit_transform(tfidf_features)\n",
    "\n",
    "# Ausgabe der Themenverteilung für jede Beschwerde in Prozent\n",
    "for i,topic in enumerate(lda_top[0]):\n",
    "  print(\"Thema \",i,\": \",topic*100,\"%\")\n",
    "feature_names = tfidf.get_feature_names_out()\n",
    "for topic_idx, topic in enumerate(lda_model.components_):\n",
    "  print(\"\\n==> Thema %d:\" %(topic_idx))\n",
    "  print(\"  * Schlüsselwörter: \", \" \".join([feature_names[i] for i in topic.argsort()[:-N - 1:-1]]))"
   ]
  },
  {
   "cell_type": "code",
   "execution_count": 103,
   "id": "5bfc220c",
   "metadata": {},
   "outputs": [
    {
     "name": "stdout",
     "output_type": "stream",
     "text": [
      "\n",
      "==> Beschwerde 0:\n",
      "  * Themenverteilung:  [0.05316834 0.05293745 0.05354633 0.7872857  0.05306218]\n",
      "\n",
      "==> Beschwerde 1:\n",
      "  * Themenverteilung:  [0.8045643  0.0489093  0.04881546 0.0491925  0.04851844]\n",
      "\n",
      "==> Beschwerde 2:\n",
      "  * Themenverteilung:  [0.0426426  0.0446909  0.04231398 0.8281303  0.04222222]\n",
      "\n",
      "==> Beschwerde 3:\n",
      "  * Themenverteilung:  [0.04978296 0.04987832 0.05005855 0.0498509  0.80042928]\n",
      "\n",
      "==> Beschwerde 4:\n",
      "  * Themenverteilung:  [0.03352709 0.03364514 0.86630782 0.0332987  0.03322126]\n",
      "\n",
      "==> Beschwerde 5:\n",
      "  * Themenverteilung:  [0.0351619  0.03484355 0.03519312 0.85893728 0.03586416]\n",
      "\n",
      "==> Beschwerde 6:\n",
      "  * Themenverteilung:  [0.04108031 0.04070662 0.0410367  0.83432505 0.04285132]\n",
      "\n",
      "==> Beschwerde 7:\n",
      "  * Themenverteilung:  [0.03548598 0.03517975 0.85857543 0.03529031 0.03546853]\n",
      "\n",
      "==> Beschwerde 8:\n",
      "  * Themenverteilung:  [0.0332184  0.51097288 0.03306223 0.38982165 0.03292484]\n",
      "\n",
      "==> Beschwerde 9:\n",
      "  * Themenverteilung:  [0.03517969 0.03498705 0.85972244 0.03479758 0.03531323]\n"
     ]
    }
   ],
   "source": [
    "# Ausgabe der beispielhaften Themenverteilung in Prozent der ersten 10 Beschwerden\n",
    "for i, topic_dist in enumerate(lda_top[:10]):\n",
    "  print(\"\\n==> Beschwerde %d:\" %(i))\n",
    "  print(\"  * Themenverteilung: \", topic_dist)"
   ]
  },
  {
   "cell_type": "code",
   "execution_count": 106,
   "id": "e18716f4",
   "metadata": {},
   "outputs": [
    {
     "name": "stdout",
     "output_type": "stream",
     "text": [
      "\n",
      "==> Thema 0:\n",
      "  * Themenverteilung:  [ 0.20224455  0.08422113 -0.05759419 -0.17140524 -0.02929152]\n",
      "\n",
      "==> Thema 1:\n",
      "  * Themenverteilung:  [ 0.33271317  0.0895126  -0.03293767  0.11379042 -0.12011335]\n",
      "\n",
      "==> Thema 2:\n",
      "  * Themenverteilung:  [0.3468383  0.46982186 0.0979874  0.12090659 0.03421351]\n",
      "\n",
      "==> Thema 3:\n",
      "  * Themenverteilung:  [ 0.36521127 -0.10412733 -0.01524876 -0.03755352  0.24534818]\n",
      "\n",
      "==> Thema 4:\n",
      "  * Themenverteilung:  [ 0.5359543   0.0088847   0.00944483 -0.18231323 -0.13377392]\n"
     ]
    }
   ],
   "source": [
    "# Extraktion der 5 häufigsten Themen jeder Kategorie mittels sklearn LSA\n",
    "\n",
    "# Erstellen des LSA-Modells\n",
    "lsa_model = TruncatedSVD(n_components=5, random_state=42)\n",
    "\n",
    "# Anpassung des LSA-Modells an die Merkmale\n",
    "lsa_top = lsa_model.fit_transform(tfidf_features)\n",
    "\n",
    "# Ausgabe der Themenverteilung für jede Beschwerde\n",
    "for i, topic in enumerate(lsa_top[:5]):\n",
    "    print(\"\\n==> Thema %d:\" %(i))\n",
    "    print(\"  * Themenverteilung: \", topic)"
   ]
  },
  {
   "cell_type": "code",
   "execution_count": 107,
   "id": "e21fb0d0",
   "metadata": {},
   "outputs": [
    {
     "name": "stdout",
     "output_type": "stream",
     "text": [
      "\n",
      "==> Thema 0:\n",
      "  * Schlüsselwörter:  loan payment pay navient 00\n",
      "\n",
      "==> Thema 1:\n",
      "  * Schlüsselwörter:  report credit account late inform\n",
      "\n",
      "==> Thema 2:\n",
      "  * Schlüsselwörter:  report credit student loan student loan\n",
      "\n",
      "==> Thema 3:\n",
      "  * Schlüsselwörter:  payment late account month interest\n",
      "\n",
      "==> Thema 4:\n",
      "  * Schlüsselwörter:  servic repay student loan student request\n"
     ]
    }
   ],
   "source": [
    "# Ausgabe der Schlüsselwörter für jedes Thema für LSA\n",
    "feature_names = tfidf.get_feature_names_out()\n",
    "for topic_idx, topic in enumerate(lsa_model.components_[:5]):\n",
    "    print(\"\\n==> Thema %d:\" %(topic_idx))\n",
    "    print(\"  * Schlüsselwörter: \", \" \".join([feature_names[i] for i in topic.argsort()[:-N - 1:-1]]))"
   ]
  },
  {
   "cell_type": "code",
   "execution_count": null,
   "id": "a7729139",
   "metadata": {},
   "outputs": [],
   "source": []
  }
 ],
 "metadata": {
  "kernelspec": {
   "display_name": "Python 3 (ipykernel)",
   "language": "python",
   "name": "python3"
  },
  "language_info": {
   "codemirror_mode": {
    "name": "ipython",
    "version": 3
   },
   "file_extension": ".py",
   "mimetype": "text/x-python",
   "name": "python",
   "nbconvert_exporter": "python",
   "pygments_lexer": "ipython3",
   "version": "3.11.5"
  }
 },
 "nbformat": 4,
 "nbformat_minor": 5
}
